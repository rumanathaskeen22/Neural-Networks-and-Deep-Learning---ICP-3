{
 "cells": [
  {
   "cell_type": "code",
   "execution_count": 43,
   "id": "1e92dcb0",
   "metadata": {},
   "outputs": [
    {
     "name": "stdout",
     "output_type": "stream",
     "text": [
      "\u001b[32m\u001b[1mCount of the Employees\u001b[0m: 3\n",
      "Average salary of the Employee: 206666.66666666666\n",
      "Name of the Employee: Ziva\n",
      "Family Members of the Employee: 4\n",
      "Salary of the Employee Annually: 620000\n",
      "Department Employee working: Manager\n",
      "\u001b[34m\u001b[1m***\u001b[0m\n",
      "\u001b[32m\u001b[1mName of the Employee\u001b[0m: Rumana\n",
      "Family Members of the Employee: 5\n",
      "Salary of the Employee Annually: 820000\n",
      "Department of Employee: Software Developer\n",
      "Type of the Employment Fulltime\n",
      "\u001b[34m\u001b[1m***\u001b[0m\n",
      "\u001b[32m\u001b[1mName of the Employee\u001b[0m: Zaahi\n",
      "Family Members of the Employee: 4\n",
      "Salary of the Employee Annually: 1400000\n",
      "Department of Employee: Web Developer\n",
      "Type of the Employment Fulltime\n",
      "\u001b[34m\u001b[1m***\u001b[0m\n"
     ]
    }
   ],
   "source": [
    "class Employee:\n",
    "    count_Emp = 0  # data member to count the number of the Employees\n",
    "\n",
    "    def __init__(self, name, family, salary, department): # constructor to initialize name, family, salary, department\n",
    "        self.name = name\n",
    "        self.family = family\n",
    "        self.salary = salary\n",
    "        self.department = department\n",
    "        Employee.count_Emp += 1  # Employee count\n",
    "\n",
    "    def avg_salary(self):  # to find the average salary of the Employee\n",
    "        total_salary = 0\n",
    "        total_salary += float(self.salary)\n",
    "        avg = total_salary / Employee.count_Emp\n",
    "        print('Average salary of the Employee:', avg)\n",
    "\n",
    "    def display(self):  # Displaying the Employee details\n",
    "        print('Name of the Employee:', self.name)\n",
    "        print('Family Members of the Employee:', self.family)\n",
    "        print('Salary of the Employee Annually:', self.salary)\n",
    "        print('Department Employee working:', self.department)\n",
    "        print(f'{Fore.BLUE + Style.BRIGHT}***{Style.RESET_ALL}')\n",
    "\n",
    "\n",
    "class Fulltime_Employee(Employee):  # inheriting the Employee class\n",
    "    def __init__(self, name, family, salary, department, emp_type):\n",
    "        Employee.__init__(self, name, family, salary, department)\n",
    "        self.emp_type = emp_type\n",
    "\n",
    "    def display(self):  # Displaying the Employee details\n",
    "        print(f'{Fore.GREEN + Style.BRIGHT}Name of the Employee{Style.RESET_ALL}:', self.name)\n",
    "        print('Family Members of the Employee:', self.family)\n",
    "        print('Salary of the Employee Annually:', self.salary)\n",
    "        print('Department of Employee:', self.department)\n",
    "        print('Type of the Employment', self.emp_type)\n",
    "        print(f'{Fore.BLUE + Style.BRIGHT}***{Style.RESET_ALL}')\n",
    "\n",
    "\n",
    "emp1 = Employee('Ziva', '4', '620000', 'Manager')  # creating the instance of  the Employee class\n",
    "emp2 = Fulltime_Employee('Rumana', '5', '820000', 'Software Developer',\n",
    "                         'Fulltime')  # Creating the instances of Fulltime Employeeclass\n",
    "emp3 = Fulltime_Employee('Zaahi', '4', '1400000', 'Web Developer', 'Fulltime')\n",
    "\n",
    "print(f'{Fore.GREEN + Style.BRIGHT}Count of the Employees{Style.RESET_ALL}:', emp1.count_Emp)\n",
    "emp1.avg_salary()\n",
    "emp1.display()\n",
    "emp2.display()\n",
    "emp3.display()"
   ]
  },
  {
   "cell_type": "code",
   "execution_count": 44,
   "id": "69981b9b",
   "metadata": {
    "scrolled": true
   },
   "outputs": [
    {
     "name": "stdout",
     "output_type": "stream",
     "text": [
      "Random Vector of size 20: \n",
      " [19.07323411 17.57771715 10.01207261  3.34863888  2.67795855 14.35877208\n",
      " 13.41245627 17.41368483  3.1818497  17.46376007 18.85551671 13.87919455\n",
      "  6.35792494  1.28339909 12.65274355  5.70225826  2.65395348 18.97379861\n",
      " 17.87283692 13.48640688]\n",
      "Numpy array after reshaping to 4 by 5:\n",
      "[[19.07323411 17.57771715 10.01207261  3.34863888  2.67795855]\n",
      " [14.35877208 13.41245627 17.41368483  3.1818497  17.46376007]\n",
      " [18.85551671 13.87919455  6.35792494  1.28339909 12.65274355]\n",
      " [ 5.70225826  2.65395348 18.97379861 17.87283692 13.48640688]]\n",
      "Replacing the max in each row by 0:\n",
      "[[ 0.         17.57771715 10.01207261  3.34863888  2.67795855]\n",
      " [14.35877208 13.41245627 17.41368483  3.1818497   0.        ]\n",
      " [ 0.         13.87919455  6.35792494  1.28339909 12.65274355]\n",
      " [ 5.70225826  2.65395348  0.         17.87283692 13.48640688]]\n"
     ]
    }
   ],
   "source": [
    "import pandas as pd\n",
    "import numpy as np\n",
    "\n",
    "random_vector = np.random.uniform(1, 20, 20)  # creating array of size 20 having only float in the range 1-20.\n",
    "print(\"Random Vector of size 20: \\n\", random_vector)\n",
    "\n",
    "random_vector = random_vector.reshape(4,5)  # reshape the array to 4 by 5\n",
    "print(\"Numpy array after reshaping to 4 by 5:\")\n",
    "print(random_vector)\n",
    "\n",
    "print(\"Replacing the max in each row by 0:\")\n",
    "# replace the max in each row by 0\n",
    "# np.where returns element depending on condition\n",
    "random_vector = np.where(random_vector == np.amax(random_vector, axis=1).reshape(-1,1), 0, random_vector)\n",
    "\n",
    "print(random_vector)"
   ]
  },
  {
   "cell_type": "code",
   "execution_count": null,
   "id": "6e98a2cf",
   "metadata": {},
   "outputs": [],
   "source": []
  }
 ],
 "metadata": {
  "kernelspec": {
   "display_name": "Python 3 (ipykernel)",
   "language": "python",
   "name": "python3"
  },
  "language_info": {
   "codemirror_mode": {
    "name": "ipython",
    "version": 3
   },
   "file_extension": ".py",
   "mimetype": "text/x-python",
   "name": "python",
   "nbconvert_exporter": "python",
   "pygments_lexer": "ipython3",
   "version": "3.9.13"
  }
 },
 "nbformat": 4,
 "nbformat_minor": 5
}
